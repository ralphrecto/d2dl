{
 "cells": [
  {
   "cell_type": "code",
   "execution_count": 57,
   "metadata": {},
   "outputs": [],
   "source": [
    "import pandas as pd\n",
    "import torch\n",
    "import torch.nn as nn\n",
    "from torch.utils.data import TensorDataset\n",
    "from itertools import product, chain\n",
    "import importlib\n",
    "\n",
    "import trainer, data, models\n",
    "from data import gen_lin_data\n",
    "from trainer import ModelingDataset, Trainer, Hyperparameters\n",
    "from models import LinearRegression"
   ]
  },
  {
   "cell_type": "code",
   "execution_count": 12,
   "metadata": {},
   "outputs": [
    {
     "data": {
      "text/plain": [
       "<module 'models' from '/Users/ralph/projects/d2dl/models.py'>"
      ]
     },
     "execution_count": 12,
     "metadata": {},
     "output_type": "execute_result"
    }
   ],
   "source": [
    "importlib.reload(trainer)\n",
    "importlib.reload(data)\n",
    "importlib.reload(models)"
   ]
  },
  {
   "cell_type": "code",
   "execution_count": 13,
   "metadata": {},
   "outputs": [],
   "source": [
    "train_X, train_y = gen_lin_data(torch.randn(3), 1.0, 8000)\n",
    "val_X, val_y = gen_lin_data(torch.randn(3), 1.0, 2000)"
   ]
  },
  {
   "cell_type": "code",
   "execution_count": 14,
   "metadata": {},
   "outputs": [],
   "source": [
    "train_dataset = TensorDataset(train_X, train_y)\n",
    "val_dataset = TensorDataset(val_X, val_y)"
   ]
  },
  {
   "cell_type": "code",
   "execution_count": 75,
   "metadata": {},
   "outputs": [],
   "source": [
    "def grid_search_params(hyperparam_grids: Hyperparameters): \n",
    "    keys = []\n",
    "    grid_vals = []\n",
    "    for namespace, hyperparams in hyperparam_grids.__dict__.items():\n",
    "        for k, k_grid_vals in hyperparams.items():\n",
    "            keys.append((namespace, k))\n",
    "            grid_vals.append(k_grid_vals)\n",
    "\n",
    "    all_val_combos = product(*grid_vals)\n",
    "\n",
    "    all_hyperparams = []\n",
    "    for all_val_combo in all_val_combos:\n",
    "        hyperparams = Hyperparameters()\n",
    "        for ((namespace, k), val) in zip(keys, all_val_combo):\n",
    "            getattr(hyperparams, namespace)[k] = val\n",
    "\n",
    "        all_hyperparams.append(hyperparams)\n",
    "\n",
    "    return all_hyperparams"
   ]
  },
  {
   "cell_type": "code",
   "execution_count": 149,
   "metadata": {},
   "outputs": [],
   "source": [
    "def grid_search(hyperparam_grid, trainer_provider):\n",
    "    results = []\n",
    "    for i, hyperparams in enumerate(hyperparam_grid):\n",
    "        print(f\"Progress: {i}/{len(hyperparam_grid)}\")\n",
    "        trainer = trainer_provider(hyperparams)\n",
    "\n",
    "        train_res = trainer.train(10)\n",
    "        results.append(train_res)\n",
    "\n",
    "    hyperparam_i, min_val_idx, min_val_loss = min((\n",
    "        (i, result[\"val\"].idxmin(), result[\"val\"].min())\n",
    "        for i, result in enumerate(results)\n",
    "    ), key=lambda t: t[2])\n",
    "\n",
    "    return hyperparam_i, min_val_loss"
   ]
  },
  {
   "cell_type": "code",
   "execution_count": 148,
   "metadata": {},
   "outputs": [],
   "source": [
    "hyperparam_grid = grid_search_params(Hyperparameters(\n",
    "    opt=dict(\n",
    "        lr=[1e-3, 2e-3, 3e-3, 4e-3, 5e-5],\n",
    "        weight_decay=[0, 0.5, 1]\n",
    "    ),\n",
    "    general=dict(\n",
    "        batch_size=[10, 25, 50],\n",
    "        num_epochs=list(range(10, 51, 10))\n",
    "    )\n",
    "))"
   ]
  },
  {
   "cell_type": "code",
   "execution_count": 150,
   "metadata": {},
   "outputs": [],
   "source": [
    "provider = lambda hyperparams: Trainer(\n",
    "    model=LinearRegression(),\n",
    "    dataset=ModelingDataset(train_dataset, val_dataset),\n",
    "    loss=nn.MSELoss,\n",
    "    opt=torch.optim.SGD,\n",
    "    hyperparameters=hyperparams\n",
    ")"
   ]
  },
  {
   "cell_type": "code",
   "execution_count": null,
   "metadata": {},
   "outputs": [],
   "source": [
    "res = grid_search(hyperparam_grid, provider)"
   ]
  }
 ],
 "metadata": {
  "interpreter": {
   "hash": "d0cc55c9a6273ac611ac45354e806ce2ea6815ce9e9e22022522b968134159d4"
  },
  "kernelspec": {
   "display_name": "Python 3 (ipykernel)",
   "language": "python",
   "name": "python3"
  },
  "language_info": {
   "codemirror_mode": {
    "name": "ipython",
    "version": 3
   },
   "file_extension": ".py",
   "mimetype": "text/x-python",
   "name": "python",
   "nbconvert_exporter": "python",
   "pygments_lexer": "ipython3",
   "version": "3.9.6"
  }
 },
 "nbformat": 4,
 "nbformat_minor": 2
}
