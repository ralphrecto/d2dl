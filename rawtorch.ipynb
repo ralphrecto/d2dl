{
 "cells": [
  {
   "cell_type": "code",
   "execution_count": 64,
   "metadata": {},
   "outputs": [],
   "source": [
    "import pandas as pd\n",
    "import torch\n",
    "import torch.nn as nn\n",
    "from torch.utils.data import TensorDataset\n",
    "from itertools import product, chain\n",
    "import importlib\n",
    "\n",
    "import trainer, data, models"
   ]
  },
  {
   "cell_type": "code",
   "execution_count": 153,
   "metadata": {},
   "outputs": [
    {
     "data": {
      "text/plain": [
       "<module 'models' from '/Users/ralph/projects/d2dl/models.py'>"
      ]
     },
     "execution_count": 153,
     "metadata": {},
     "output_type": "execute_result"
    }
   ],
   "source": [
    "importlib.reload(trainer)\n",
    "importlib.reload(data)\n",
    "importlib.reload(models)"
   ]
  },
  {
   "cell_type": "code",
   "execution_count": 154,
   "metadata": {},
   "outputs": [],
   "source": [
    "kaggle_housing_dataset = data.kaggle_housing()"
   ]
  },
  {
   "cell_type": "code",
   "execution_count": 171,
   "metadata": {},
   "outputs": [
    {
     "data": {
      "text/html": [
       "<div>\n",
       "<style scoped>\n",
       "    .dataframe tbody tr th:only-of-type {\n",
       "        vertical-align: middle;\n",
       "    }\n",
       "\n",
       "    .dataframe tbody tr th {\n",
       "        vertical-align: top;\n",
       "    }\n",
       "\n",
       "    .dataframe thead th {\n",
       "        text-align: right;\n",
       "    }\n",
       "</style>\n",
       "<table border=\"1\" class=\"dataframe\">\n",
       "  <thead>\n",
       "    <tr style=\"text-align: right;\">\n",
       "      <th></th>\n",
       "      <th>Id</th>\n",
       "      <th>MSSubClass</th>\n",
       "      <th>LotFrontage</th>\n",
       "      <th>LotArea</th>\n",
       "      <th>OverallQual</th>\n",
       "      <th>OverallCond</th>\n",
       "      <th>YearBuilt</th>\n",
       "      <th>YearRemodAdd</th>\n",
       "      <th>MasVnrArea</th>\n",
       "      <th>BsmtFinSF1</th>\n",
       "      <th>...</th>\n",
       "      <th>SaleType_ConLI</th>\n",
       "      <th>SaleType_ConLw</th>\n",
       "      <th>SaleType_New</th>\n",
       "      <th>SaleType_Oth</th>\n",
       "      <th>SaleType_WD</th>\n",
       "      <th>SaleCondition_AdjLand</th>\n",
       "      <th>SaleCondition_Alloca</th>\n",
       "      <th>SaleCondition_Family</th>\n",
       "      <th>SaleCondition_Normal</th>\n",
       "      <th>SaleCondition_Partial</th>\n",
       "    </tr>\n",
       "  </thead>\n",
       "  <tbody>\n",
       "    <tr>\n",
       "      <th>1125</th>\n",
       "      <td>0.938392</td>\n",
       "      <td>-0.872563</td>\n",
       "      <td>-4.564744e-01</td>\n",
       "      <td>-0.008301</td>\n",
       "      <td>-1.518467</td>\n",
       "      <td>-0.517200</td>\n",
       "      <td>-0.538802</td>\n",
       "      <td>-1.447101</td>\n",
       "      <td>-0.574410</td>\n",
       "      <td>-0.973018</td>\n",
       "      <td>...</td>\n",
       "      <td>0.0</td>\n",
       "      <td>0.0</td>\n",
       "      <td>0.0</td>\n",
       "      <td>0.0</td>\n",
       "      <td>1.0</td>\n",
       "      <td>0.0</td>\n",
       "      <td>0.0</td>\n",
       "      <td>0.0</td>\n",
       "      <td>1.0</td>\n",
       "      <td>0.0</td>\n",
       "    </tr>\n",
       "    <tr>\n",
       "      <th>342</th>\n",
       "      <td>-0.919411</td>\n",
       "      <td>0.782828</td>\n",
       "      <td>6.454645e-16</td>\n",
       "      <td>-0.197721</td>\n",
       "      <td>-2.241782</td>\n",
       "      <td>-1.416142</td>\n",
       "      <td>-0.737526</td>\n",
       "      <td>-1.689368</td>\n",
       "      <td>1.309170</td>\n",
       "      <td>-0.973018</td>\n",
       "      <td>...</td>\n",
       "      <td>0.0</td>\n",
       "      <td>0.0</td>\n",
       "      <td>0.0</td>\n",
       "      <td>0.0</td>\n",
       "      <td>1.0</td>\n",
       "      <td>0.0</td>\n",
       "      <td>0.0</td>\n",
       "      <td>0.0</td>\n",
       "      <td>1.0</td>\n",
       "      <td>0.0</td>\n",
       "    </tr>\n",
       "    <tr>\n",
       "      <th>173</th>\n",
       "      <td>-1.320392</td>\n",
       "      <td>-0.872563</td>\n",
       "      <td>4.519361e-01</td>\n",
       "      <td>-0.032054</td>\n",
       "      <td>-0.071836</td>\n",
       "      <td>-0.517200</td>\n",
       "      <td>-0.340077</td>\n",
       "      <td>-1.156380</td>\n",
       "      <td>2.145702</td>\n",
       "      <td>-0.341359</td>\n",
       "      <td>...</td>\n",
       "      <td>0.0</td>\n",
       "      <td>0.0</td>\n",
       "      <td>0.0</td>\n",
       "      <td>0.0</td>\n",
       "      <td>0.0</td>\n",
       "      <td>0.0</td>\n",
       "      <td>0.0</td>\n",
       "      <td>0.0</td>\n",
       "      <td>1.0</td>\n",
       "      <td>0.0</td>\n",
       "    </tr>\n",
       "    <tr>\n",
       "      <th>946</th>\n",
       "      <td>0.513684</td>\n",
       "      <td>0.546344</td>\n",
       "      <td>-2.269135e-03</td>\n",
       "      <td>-0.235905</td>\n",
       "      <td>-0.795151</td>\n",
       "      <td>0.381743</td>\n",
       "      <td>-0.406319</td>\n",
       "      <td>-1.253287</td>\n",
       "      <td>0.134702</td>\n",
       "      <td>0.667542</td>\n",
       "      <td>...</td>\n",
       "      <td>0.0</td>\n",
       "      <td>0.0</td>\n",
       "      <td>0.0</td>\n",
       "      <td>0.0</td>\n",
       "      <td>1.0</td>\n",
       "      <td>0.0</td>\n",
       "      <td>0.0</td>\n",
       "      <td>0.0</td>\n",
       "      <td>1.0</td>\n",
       "      <td>0.0</td>\n",
       "    </tr>\n",
       "    <tr>\n",
       "      <th>389</th>\n",
       "      <td>-0.807895</td>\n",
       "      <td>0.073375</td>\n",
       "      <td>1.178664e+00</td>\n",
       "      <td>0.196152</td>\n",
       "      <td>2.821425</td>\n",
       "      <td>-0.517200</td>\n",
       "      <td>1.183477</td>\n",
       "      <td>1.120936</td>\n",
       "      <td>0.932454</td>\n",
       "      <td>1.834357</td>\n",
       "      <td>...</td>\n",
       "      <td>0.0</td>\n",
       "      <td>0.0</td>\n",
       "      <td>1.0</td>\n",
       "      <td>0.0</td>\n",
       "      <td>0.0</td>\n",
       "      <td>0.0</td>\n",
       "      <td>0.0</td>\n",
       "      <td>0.0</td>\n",
       "      <td>0.0</td>\n",
       "      <td>1.0</td>\n",
       "    </tr>\n",
       "  </tbody>\n",
       "</table>\n",
       "<p>5 rows × 246 columns</p>\n",
       "</div>"
      ],
      "text/plain": [
       "            Id  MSSubClass   LotFrontage   LotArea  OverallQual  OverallCond  \\\n",
       "1125  0.938392   -0.872563 -4.564744e-01 -0.008301    -1.518467    -0.517200   \n",
       "342  -0.919411    0.782828  6.454645e-16 -0.197721    -2.241782    -1.416142   \n",
       "173  -1.320392   -0.872563  4.519361e-01 -0.032054    -0.071836    -0.517200   \n",
       "946   0.513684    0.546344 -2.269135e-03 -0.235905    -0.795151     0.381743   \n",
       "389  -0.807895    0.073375  1.178664e+00  0.196152     2.821425    -0.517200   \n",
       "\n",
       "      YearBuilt  YearRemodAdd  MasVnrArea  BsmtFinSF1  ...  SaleType_ConLI  \\\n",
       "1125  -0.538802     -1.447101   -0.574410   -0.973018  ...             0.0   \n",
       "342   -0.737526     -1.689368    1.309170   -0.973018  ...             0.0   \n",
       "173   -0.340077     -1.156380    2.145702   -0.341359  ...             0.0   \n",
       "946   -0.406319     -1.253287    0.134702    0.667542  ...             0.0   \n",
       "389    1.183477      1.120936    0.932454    1.834357  ...             0.0   \n",
       "\n",
       "      SaleType_ConLw  SaleType_New  SaleType_Oth  SaleType_WD  \\\n",
       "1125             0.0           0.0           0.0          1.0   \n",
       "342              0.0           0.0           0.0          1.0   \n",
       "173              0.0           0.0           0.0          0.0   \n",
       "946              0.0           0.0           0.0          1.0   \n",
       "389              0.0           1.0           0.0          0.0   \n",
       "\n",
       "      SaleCondition_AdjLand  SaleCondition_Alloca  SaleCondition_Family  \\\n",
       "1125                    0.0                   0.0                   0.0   \n",
       "342                     0.0                   0.0                   0.0   \n",
       "173                     0.0                   0.0                   0.0   \n",
       "946                     0.0                   0.0                   0.0   \n",
       "389                     0.0                   0.0                   0.0   \n",
       "\n",
       "      SaleCondition_Normal  SaleCondition_Partial  \n",
       "1125                   1.0                    0.0  \n",
       "342                    1.0                    0.0  \n",
       "173                    1.0                    0.0  \n",
       "946                    1.0                    0.0  \n",
       "389                    0.0                    1.0  \n",
       "\n",
       "[5 rows x 246 columns]"
      ]
     },
     "execution_count": 171,
     "metadata": {},
     "output_type": "execute_result"
    }
   ],
   "source": [
    "kaggle_housing_dataset.train.dataframe.head()"
   ]
  },
  {
   "cell_type": "code",
   "execution_count": 157,
   "metadata": {},
   "outputs": [],
   "source": [
    "class LinearRegression(nn.Sequential):\n",
    "    def __init__(self, hidden_dim: int = 100, num_outputs: int = 1):\n",
    "        super().__init__(\n",
    "            nn.LazyLinear(hidden_dim),\n",
    "            nn.ReLU(),\n",
    "            nn.LazyLinear(num_outputs)\n",
    "        )"
   ]
  },
  {
   "cell_type": "code",
   "execution_count": 158,
   "metadata": {},
   "outputs": [],
   "source": [
    "class RMSLELoss(nn.Module):\n",
    "    def __init__(self):\n",
    "        super().__init__()\n",
    "        self.mse = nn.MSELoss()\n",
    "        \n",
    "    def forward(self, pred, actual):\n",
    "        return torch.sqrt(self.mse(torch.log(pred + 1), torch.log(actual + 1)))"
   ]
  },
  {
   "cell_type": "code",
   "execution_count": 159,
   "metadata": {},
   "outputs": [],
   "source": [
    "provider = lambda hyperparams: trainer.Trainer(\n",
    "    model=LinearRegression(hidden_dim=hyperparams.model[\"hidden_dim\"], num_outputs=1),\n",
    "    dataset=kaggle_housing_dataset,\n",
    "    loss=RMSLELoss,\n",
    "    opt=torch.optim.SGD,\n",
    "    hyperparameters=hyperparams\n",
    ")"
   ]
  },
  {
   "cell_type": "code",
   "execution_count": 160,
   "metadata": {},
   "outputs": [
    {
     "name": "stderr",
     "output_type": "stream",
     "text": [
      "/Users/ralph/.venvs/d2dl/lib/python3.9/site-packages/torch/nn/modules/lazy.py:180: UserWarning: Lazy modules are a new feature under heavy development so changes to the API or functionality can happen at any moment.\n",
      "  warnings.warn('Lazy modules are a new feature under heavy development '\n"
     ]
    }
   ],
   "source": [
    "model_trainer = provider(trainer.Hyperparameters(\n",
    "    opt=dict(\n",
    "        lr = 1e-3\n",
    "    ),\n",
    "    model=dict(\n",
    "        hidden_dim = 100\n",
    "    ),\n",
    "    general=dict(\n",
    "        num_epochs = 200,\n",
    "        batch_size = 6\n",
    "    )\n",
    "))"
   ]
  },
  {
   "cell_type": "code",
   "execution_count": 161,
   "metadata": {},
   "outputs": [],
   "source": [
    "train_result = model_trainer.train(16)"
   ]
  },
  {
   "cell_type": "code",
   "execution_count": 164,
   "metadata": {},
   "outputs": [
    {
     "data": {
      "text/html": [
       "<div>\n",
       "<style scoped>\n",
       "    .dataframe tbody tr th:only-of-type {\n",
       "        vertical-align: middle;\n",
       "    }\n",
       "\n",
       "    .dataframe tbody tr th {\n",
       "        vertical-align: top;\n",
       "    }\n",
       "\n",
       "    .dataframe thead th {\n",
       "        text-align: right;\n",
       "    }\n",
       "</style>\n",
       "<table border=\"1\" class=\"dataframe\">\n",
       "  <thead>\n",
       "    <tr style=\"text-align: right;\">\n",
       "      <th></th>\n",
       "      <th>train</th>\n",
       "      <th>val</th>\n",
       "    </tr>\n",
       "  </thead>\n",
       "  <tbody>\n",
       "    <tr>\n",
       "      <th>0</th>\n",
       "      <td>12.105652</td>\n",
       "      <td>12.068521</td>\n",
       "    </tr>\n",
       "    <tr>\n",
       "      <th>1</th>\n",
       "      <td>12.123299</td>\n",
       "      <td>11.687802</td>\n",
       "    </tr>\n",
       "    <tr>\n",
       "      <th>2</th>\n",
       "      <td>11.762332</td>\n",
       "      <td>12.103120</td>\n",
       "    </tr>\n",
       "    <tr>\n",
       "      <th>3</th>\n",
       "      <td>11.765411</td>\n",
       "      <td>11.837670</td>\n",
       "    </tr>\n",
       "    <tr>\n",
       "      <th>4</th>\n",
       "      <td>11.574232</td>\n",
       "      <td>12.102566</td>\n",
       "    </tr>\n",
       "    <tr>\n",
       "      <th>...</th>\n",
       "      <td>...</td>\n",
       "      <td>...</td>\n",
       "    </tr>\n",
       "    <tr>\n",
       "      <th>995</th>\n",
       "      <td>7.744671</td>\n",
       "      <td>7.617826</td>\n",
       "    </tr>\n",
       "    <tr>\n",
       "      <th>996</th>\n",
       "      <td>7.702687</td>\n",
       "      <td>7.616677</td>\n",
       "    </tr>\n",
       "    <tr>\n",
       "      <th>997</th>\n",
       "      <td>7.864686</td>\n",
       "      <td>7.651832</td>\n",
       "    </tr>\n",
       "    <tr>\n",
       "      <th>998</th>\n",
       "      <td>7.726078</td>\n",
       "      <td>7.552651</td>\n",
       "    </tr>\n",
       "    <tr>\n",
       "      <th>999</th>\n",
       "      <td>7.545769</td>\n",
       "      <td>7.643954</td>\n",
       "    </tr>\n",
       "  </tbody>\n",
       "</table>\n",
       "<p>1000 rows × 2 columns</p>\n",
       "</div>"
      ],
      "text/plain": [
       "         train        val\n",
       "0    12.105652  12.068521\n",
       "1    12.123299  11.687802\n",
       "2    11.762332  12.103120\n",
       "3    11.765411  11.837670\n",
       "4    11.574232  12.102566\n",
       "..         ...        ...\n",
       "995   7.744671   7.617826\n",
       "996   7.702687   7.616677\n",
       "997   7.864686   7.651832\n",
       "998   7.726078   7.552651\n",
       "999   7.545769   7.643954\n",
       "\n",
       "[1000 rows x 2 columns]"
      ]
     },
     "execution_count": 164,
     "metadata": {},
     "output_type": "execute_result"
    }
   ],
   "source": [
    "train_result"
   ]
  },
  {
   "cell_type": "code",
   "execution_count": 163,
   "metadata": {},
   "outputs": [
    {
     "data": {
      "text/plain": [
       "<Axes: >"
      ]
     },
     "execution_count": 163,
     "metadata": {},
     "output_type": "execute_result"
    },
    {
     "data": {
      "image/png": "[encoded data removed]",
      "text/plain": [
       "<Figure size 640x480 with 1 Axes>"
      ]
     },
     "metadata": {},
     "output_type": "display_data"
    }
   ],
   "source": [
    "train_result.plot()"
   ]
  },
  {
   "cell_type": "code",
   "execution_count": 165,
   "metadata": {},
   "outputs": [],
   "source": [
    "val_x = torch.stack([\n",
    "    kaggle_housing_dataset.val[i][0]\n",
    "    for i in range(len(kaggle_housing_dataset.val))\n",
    "])"
   ]
  },
  {
   "cell_type": "code",
   "execution_count": 166,
   "metadata": {},
   "outputs": [],
   "source": [
    "val_y = torch.stack([\n",
    "    kaggle_housing_dataset.val[i][1]\n",
    "    for i in range(len(kaggle_housing_dataset.val))\n",
    "])"
   ]
  },
  {
   "cell_type": "code",
   "execution_count": 172,
   "metadata": {},
   "outputs": [],
   "source": [
    "model_y = model_trainer.model(val_x)"
   ]
  },
  {
   "cell_type": "code",
   "execution_count": 168,
   "metadata": {},
   "outputs": [],
   "source": [
    "val_df = pd.DataFrame(\n",
    "    torch.stack([\n",
    "        torch.flatten(model_y.detach()),\n",
    "        torch.flatten(val_y)\n",
    "    ], dim = 1),\n",
    "    columns=[\"pred\", \"val\"]\n",
    ")"
   ]
  },
  {
   "cell_type": "code",
   "execution_count": 169,
   "metadata": {},
   "outputs": [
    {
     "data": {
      "text/plain": [
       "<Axes: xlabel='pred', ylabel='val'>"
      ]
     },
     "execution_count": 169,
     "metadata": {},
     "output_type": "execute_result"
    },
    {
     "data": {
      "image/png": "[encoded data removed]",
      "text/plain": [
       "<Figure size 640x480 with 1 Axes>"
      ]
     },
     "metadata": {},
     "output_type": "display_data"
    }
   ],
   "source": [
    "val_df.plot(kind=\"scatter\", x=\"pred\", y=\"val\")"
   ]
  }
 ],
 "metadata": {
  "interpreter": {
   "hash": "d0cc55c9a6273ac611ac45354e806ce2ea6815ce9e9e22022522b968134159d4"
  },
  "kernelspec": {
   "display_name": "Python 3 (ipykernel)",
   "language": "python",
   "name": "python3"
  },
  "language_info": {
   "codemirror_mode": {
    "name": "ipython",
    "version": 3
   },
   "file_extension": ".py",
   "mimetype": "text/x-python",
   "name": "python",
   "nbconvert_exporter": "python",
   "pygments_lexer": "ipython3",
   "version": "3.9.6"
  }
 },
 "nbformat": 4,
 "nbformat_minor": 2
}
