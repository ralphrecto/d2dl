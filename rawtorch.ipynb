{
 "cells": [
  {
   "cell_type": "code",
   "execution_count": 3,
   "metadata": {},
   "outputs": [],
   "source": [
    "import pandas as pd\n",
    "import torch\n",
    "import torch.nn as nn\n",
    "from torch.utils.data import DataLoader, TensorDataset, Dataset"
   ]
  },
  {
   "cell_type": "code",
   "execution_count": 4,
   "metadata": {},
   "outputs": [],
   "source": [
    "def gen_lin_data(w, b, num_samples, noise=0.01):\n",
    "    rand_x = torch.rand(num_samples, len(w)) * 10\n",
    "    base_y = rand_x.matmul(w.reshape(-1, 1))\n",
    "    noise_y = torch.randn(num_samples, 1) * noise\n",
    "\n",
    "    return rand_x, base_y + b + noise_y\n",
    "\n"
   ]
  },
  {
   "cell_type": "code",
   "execution_count": 5,
   "metadata": {},
   "outputs": [],
   "source": [
    "real_w = torch.randn(3) * 10\n",
    "real_b = 0.0"
   ]
  },
  {
   "cell_type": "code",
   "execution_count": 6,
   "metadata": {},
   "outputs": [],
   "source": [
    "train_X, train_y = gen_lin_data(real_w, real_b, 8000)\n",
    "val_X, val_y = gen_lin_data(real_w, real_b, 2000)"
   ]
  },
  {
   "cell_type": "code",
   "execution_count": 7,
   "metadata": {},
   "outputs": [],
   "source": [
    "train_dataset = TensorDataset(train_X, train_y)\n",
    "val_dataset = TensorDataset(val_X, val_y)"
   ]
  },
  {
   "cell_type": "code",
   "execution_count": 8,
   "metadata": {},
   "outputs": [],
   "source": [
    "class LinearRegression(nn.Module):\n",
    "    def __init__(self):\n",
    "        super().__init__()\n",
    "        self.net = nn.LazyLinear(1)\n",
    "\n",
    "        # initialize weights\n",
    "        self.net.weight.data.normal_(0, 0.01)\n",
    "        self.net.bias.data.fill_(0)\n",
    "\n",
    "    def forward(self, x):\n",
    "        return self.net(x)"
   ]
  },
  {
   "cell_type": "code",
   "execution_count": 12,
   "metadata": {},
   "outputs": [],
   "source": [
    "class ModelingDataset:\n",
    "\n",
    "    def __init__(self, train: Dataset, val: Dataset):\n",
    "        self.train = train\n",
    "        self.val = val\n",
    "\n",
    "    def get_dataloaders(self, batch_size):\n",
    "        return (\n",
    "            DataLoader(self.train, batch_size=batch_size, shuffle=True),\n",
    "            DataLoader(self.val, batch_size=batch_size, shuffle=True)\n",
    "        )\n"
   ]
  },
  {
   "cell_type": "code",
   "execution_count": 25,
   "metadata": {},
   "outputs": [],
   "source": [
    "class Trainer:\n",
    "\n",
    "    def __init__(self, model: nn.Module, dataset: ModelingDataset, loss_fn_provider, opt_provider, hyperparameters):\n",
    "        self.model = model\n",
    "        self.dataset = dataset\n",
    "        self.loss_fn = loss_fn_provider(hyperparameters)\n",
    "        self.opt = opt_provider(hyperparameters, self.model)\n",
    "        self.hyperparams = hyperparameters\n",
    "\n",
    "    def train(self, plot_cadence):\n",
    "        train_dataloader, val_dataloader = self.dataset.get_dataloaders(self.hyperparams[\"batch_size\"])\n",
    "\n",
    "        train_loss_hist = []\n",
    "        val_loss_hist = []\n",
    "        for epoch_num in range(self.hyperparams[\"num_epochs\"]):\n",
    "            for batch_num, (train_data, val_data) in enumerate(zip(train_dataloader, val_dataloader)):\n",
    "                train_X, train_y = train_data\n",
    "                val_X, val_y = val_data\n",
    "\n",
    "                pred_y = self.model(train_X)\n",
    "                loss = self.loss_fn(pred_y, train_y)\n",
    "\n",
    "                self.opt.zero_grad()\n",
    "                loss.backward()\n",
    "                self.opt.step()\n",
    "\n",
    "                val_pred_y = self.model(val_X)\n",
    "                val_loss = self.loss_fn(val_pred_y, val_y)\n",
    "                \n",
    "                if batch_num % plot_cadence == 0:\n",
    "                    train_loss_hist.append(loss.item())\n",
    "                    val_loss_hist.append(val_loss.item())\n",
    "\n",
    "        pd.DataFrame(dict(train=train_loss_hist, val=val_loss_hist)).plot()"
   ]
  },
  {
   "cell_type": "code",
   "execution_count": 27,
   "metadata": {},
   "outputs": [],
   "source": [
    "train_dataloader = DataLoader(train_dataset, batch_size=100, shuffle=True)\n",
    "val_dataloader = DataLoader(val_dataset, batch_size=100, shuffle=True)"
   ]
  },
  {
   "cell_type": "code",
   "execution_count": 30,
   "metadata": {},
   "outputs": [
    {
     "name": "stderr",
     "output_type": "stream",
     "text": [
      "/home/ralph/.venvs/d2dl/lib/python3.9/site-packages/torch/nn/modules/lazy.py:180: UserWarning: Lazy modules are a new feature under heavy development so changes to the API or functionality can happen at any moment.\n",
      "  warnings.warn('Lazy modules are a new feature under heavy development '\n"
     ]
    },
    {
     "data": {
      "image/png": "[encoded data removed]",
      "text/plain": [
       "<Figure size 640x480 with 1 Axes>"
      ]
     },
     "metadata": {},
     "output_type": "display_data"
    }
   ],
   "source": [
    "linreg_trainer = Trainer(\n",
    "    LinearRegression(),\n",
    "    ModelingDataset(train_dataset, val_dataset),\n",
    "    lambda _: nn.MSELoss(),\n",
    "    lambda h, model: torch.optim.SGD(model.parameters(), lr=h[\"learning_rate\"], momentum=h[\"momentum\"]),\n",
    "    {\n",
    "        \"batch_size\": 30,\n",
    "        \"num_epochs\": 10,\n",
    "        \"learning_rate\": 2e-3,\n",
    "        \"momentum\": 0.9\n",
    "    }\n",
    ")\n",
    "linreg_trainer.train(4)"
   ]
  },
  {
   "cell_type": "code",
   "execution_count": 32,
   "metadata": {},
   "outputs": [
    {
     "data": {
      "text/plain": [
       "<generator object Module.parameters at 0x7f285cf4a120>"
      ]
     },
     "execution_count": 32,
     "metadata": {},
     "output_type": "execute_result"
    }
   ],
   "source": [
    "linreg_trainer.model.parameters()"
   ]
  }
 ],
 "metadata": {
  "interpreter": {
   "hash": "d0cc55c9a6273ac611ac45354e806ce2ea6815ce9e9e22022522b968134159d4"
  },
  "kernelspec": {
   "display_name": "Python 3 (ipykernel)",
   "language": "python",
   "name": "python3"
  },
  "language_info": {
   "codemirror_mode": {
    "name": "ipython",
    "version": 3
   },
   "file_extension": ".py",
   "mimetype": "text/x-python",
   "name": "python",
   "nbconvert_exporter": "python",
   "pygments_lexer": "ipython3",
   "version": "3.9.12"
  }
 },
 "nbformat": 4,
 "nbformat_minor": 2
}
