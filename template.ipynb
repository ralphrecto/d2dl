{
 "cells": [
  {
   "cell_type": "code",
   "execution_count": null,
   "metadata": {},
   "outputs": [],
   "source": [
    "import pandas as pd\n",
    "import numpy as np\n",
    "import torch\n",
    "import torch.nn as nn\n",
    "from torch.utils.data import TensorDataset\n",
    "from itertools import product, chain\n",
    "import importlib\n",
    "\n",
    "import trainer, data, models"
   ]
  },
  {
   "cell_type": "code",
   "execution_count": null,
   "metadata": {},
   "outputs": [],
   "source": [
    "importlib.reload(trainer)\n",
    "importlib.reload(data)\n",
    "importlib.reload(models)"
   ]
  },
  {
   "cell_type": "code",
   "execution_count": null,
   "metadata": {},
   "outputs": [],
   "source": [
    "# load dataset \n",
    "dataset = data.kaggle_housing()"
   ]
  },
  {
   "cell_type": "code",
   "execution_count": null,
   "metadata": {},
   "outputs": [],
   "source": [
    "provider = lambda hyperparams: trainer.Trainer(\n",
    "    # swap with your model\n",
    "    model=models.LinearRegression(),\n",
    "    dataset=dataset,\n",
    "    # swap with your loss\n",
    "    loss=nn.MSELoss(),\n",
    "    opt=torch.optim.SGD,\n",
    "    hyperparameters=hyperparams\n",
    ")"
   ]
  },
  {
   "cell_type": "code",
   "execution_count": null,
   "metadata": {},
   "outputs": [],
   "source": [
    "# swap hyperparams here\n",
    "model_trainer = provider(trainer.Hyperparameters(\n",
    "    opt=dict(\n",
    "        lr = 3e-3\n",
    "    ),\n",
    "    model=dict(),\n",
    "    general=dict(\n",
    "        num_epochs = 200,\n",
    "        batch_size = 64\n",
    "    )\n",
    "))"
   ]
  },
  {
   "cell_type": "code",
   "execution_count": null,
   "metadata": {},
   "outputs": [],
   "source": [
    "train_result = model_trainer.train(16)"
   ]
  },
  {
   "cell_type": "code",
   "execution_count": null,
   "metadata": {},
   "outputs": [],
   "source": [
    "train_result"
   ]
  }
 ],
 "metadata": {
  "interpreter": {
   "hash": "d0cc55c9a6273ac611ac45354e806ce2ea6815ce9e9e22022522b968134159d4"
  },
  "kernelspec": {
   "display_name": "Python 3 (ipykernel)",
   "language": "python",
   "name": "python3"
  },
  "language_info": {
   "codemirror_mode": {
    "name": "ipython",
    "version": 3
   },
   "file_extension": ".py",
   "mimetype": "text/x-python",
   "name": "python",
   "nbconvert_exporter": "python",
   "pygments_lexer": "ipython3",
   "version": "3.9.6"
  }
 },
 "nbformat": 4,
 "nbformat_minor": 2
}
