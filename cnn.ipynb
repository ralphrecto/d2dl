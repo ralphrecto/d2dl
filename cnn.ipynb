{
 "cells": [
  {
   "cell_type": "code",
   "execution_count": 77,
   "metadata": {},
   "outputs": [],
   "source": [
    "import pandas as pd\n",
    "import numpy as np\n",
    "import torch\n",
    "import torch.nn as nn\n",
    "from torch.utils.data import TensorDataset\n",
    "from itertools import product, chain\n",
    "import importlib\n",
    "\n",
    "import trainer, data, models"
   ]
  },
  {
   "cell_type": "code",
   "execution_count": 85,
   "metadata": {},
   "outputs": [
    {
     "data": {
      "text/plain": [
       "<module 'models' from '/Users/ralph/projects/d2dl/models.py'>"
      ]
     },
     "execution_count": 85,
     "metadata": {},
     "output_type": "execute_result"
    }
   ],
   "source": [
    "importlib.reload(trainer)\n",
    "importlib.reload(data)\n",
    "importlib.reload(models)"
   ]
  },
  {
   "cell_type": "code",
   "execution_count": 86,
   "metadata": {},
   "outputs": [],
   "source": [
    "# load dataset \n",
    "dataset = data.fashion_mnist()"
   ]
  },
  {
   "cell_type": "code",
   "execution_count": 87,
   "metadata": {},
   "outputs": [],
   "source": [
    "class LeNet(nn.Sequential):\n",
    "\n",
    "    def __init__(self, output_classes):\n",
    "        super().__init__(\n",
    "            nn.LazyConv2d(out_channels=6, kernel_size=5, padding=2),\n",
    "            nn.ReLU(),\n",
    "            nn.AvgPool2d(kernel_size=2, stride=2),\n",
    "            nn.LazyConv2d(out_channels=16, kernel_size=5, padding=2),\n",
    "            nn.ReLU(),\n",
    "            nn.AvgPool2d(kernel_size=2, stride=2),\n",
    "            nn.Flatten(),\n",
    "            nn.LazyLinear(120),\n",
    "            nn.ReLU(),\n",
    "            nn.LazyLinear(84),\n",
    "            nn.ReLU(),\n",
    "            nn.LazyLinear(output_classes),\n",
    "        )"
   ]
  },
  {
   "cell_type": "code",
   "execution_count": 88,
   "metadata": {},
   "outputs": [],
   "source": [
    "provider = lambda hyperparams: trainer.Trainer(\n",
    "    # swap with your model\n",
    "    model=LeNet(10),\n",
    "    dataset=dataset,\n",
    "    # swap with your loss\n",
    "    loss=nn.CrossEntropyLoss,\n",
    "    opt=torch.optim.SGD,\n",
    "    hyperparameters=hyperparams\n",
    ")"
   ]
  },
  {
   "cell_type": "code",
   "execution_count": 89,
   "metadata": {},
   "outputs": [],
   "source": [
    "# swap hyperparams here\n",
    "model_trainer = provider(trainer.Hyperparameters(\n",
    "    opt=dict(\n",
    "        lr = 3e-3\n",
    "    ),\n",
    "    model=dict(),\n",
    "    general=dict(\n",
    "        num_epochs = 10,\n",
    "        batch_size = 64\n",
    "    )\n",
    "))"
   ]
  },
  {
   "cell_type": "code",
   "execution_count": 128,
   "metadata": {},
   "outputs": [],
   "source": [
    "dx = 4\n",
    "ctxlen = 10\n",
    "batch_size = 7\n",
    "hidden_state_dim = 4\n",
    "output_dim = 8\n",
    "\n",
    "x = torch.rand((batch_size, ctxlen, dx))\n",
    "w_xh = torch.rand((dx, hidden_state_dim))\n",
    "h = torch.rand(hidden_state_dim)\n",
    "w_hh = torch.rand((hidden_state_dim, hidden_state_dim))\n",
    "w_hq = torch.rand((hidden_state_dim, output_dim))\n",
    "x_prime = torch.movedim(x, 1, 0)\n",
    "a = nn.ReLU()\n",
    "outputs = []\n",
    "for t, x_t in enumerate(x_prime):\n",
    "    h_t1 = a(torch.matmul(x_t, w_xh) + torch.matmul(h, w_hh))\n",
    "    h = h_t1\n",
    "    \n",
    "    output = a(torch.matmul(h_t1, w_hq))\n",
    "    outputs.append(output)\n",
    "torch.stack(outputs).shape"
   ]
  },
  {
   "cell_type": "code",
   "execution_count": 98,
   "metadata": {},
   "outputs": [],
   "source": [
    "w_hh = torch.rand((hidden_state_dim, hidden_state_dim))"
   ]
  },
  {
   "cell_type": "code",
   "execution_count": 100,
   "metadata": {},
   "outputs": [
    {
     "data": {
      "text/plain": [
       "tensor([1.2706, 1.1819, 1.3374, 0.7124])"
      ]
     },
     "execution_count": 100,
     "metadata": {},
     "output_type": "execute_result"
    }
   ],
   "source": [
    "torch.matmul(h, w_hh)"
   ]
  },
  {
   "cell_type": "code",
   "execution_count": null,
   "metadata": {},
   "outputs": [],
   "source": [
    "train_result"
   ]
  }
 ],
 "metadata": {
  "interpreter": {
   "hash": "d0cc55c9a6273ac611ac45354e806ce2ea6815ce9e9e22022522b968134159d4"
  },
  "kernelspec": {
   "display_name": "Python 3 (ipykernel)",
   "language": "python",
   "name": "python3"
  },
  "language_info": {
   "codemirror_mode": {
    "name": "ipython",
    "version": 3
   },
   "file_extension": ".py",
   "mimetype": "text/x-python",
   "name": "python",
   "nbconvert_exporter": "python",
   "pygments_lexer": "ipython3",
   "version": "3.9.6"
  }
 },
 "nbformat": 4,
 "nbformat_minor": 2
}
