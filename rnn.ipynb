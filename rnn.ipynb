{
 "cells": [
  {
   "cell_type": "code",
   "execution_count": 36,
   "metadata": {},
   "outputs": [],
   "source": [
    "import torch\n",
    "import torch.nn as nn\n",
    "import itertools"
   ]
  },
  {
   "cell_type": "code",
   "execution_count": 21,
   "metadata": {},
   "outputs": [],
   "source": [
    "class RNN(nn.Module):\n",
    "\n",
    "    def __init__(\n",
    "        self,\n",
    "        dim_inputs,\n",
    "        hidden_state_dim,\n",
    "    ):\n",
    "        super().__init__()\n",
    "\n",
    "        self.hidden_state_dim = hidden_state_dim\n",
    "        self.w_xh = nn.Parameter(torch.rand(dim_inputs, hidden_state_dim))\n",
    "        self.w_hh = nn.Parameter(torch.rand(hidden_state_dim, hidden_state_dim))\n",
    "\n",
    "        self.bias = nn.Parameter(torch.rand(hidden_state_dim))\n",
    "\n",
    "    def forward(self, inputs, hidden_state = None):\n",
    "        # input dims: (ctx len, batch size, input dim)\n",
    "        if hidden_state is None:\n",
    "            hidden_state = nn.Parameter(torch.rand(self.hidden_state_dim))\n",
    "\n",
    "        outputs = []\n",
    "        for x_t in inputs:\n",
    "            hidden_state = torch.tanh(\n",
    "                torch.matmul(x_t, self.w_xh)\n",
    "                + torch.matmul(hidden_state, self.w_hh)\n",
    "                + self.bias\n",
    "            )\n",
    "            outputs.append(hidden_state)\n",
    "\n",
    "        output_t = torch.stack(outputs)\n",
    "\n",
    "        return output_t, hidden_state"
   ]
  },
  {
   "cell_type": "code",
   "execution_count": 24,
   "metadata": {},
   "outputs": [],
   "source": [
    "with open(\"./datasets/tinyshakespeare.txt\") as f:\n",
    "    tiny_shakespeare = f.read()"
   ]
  },
  {
   "cell_type": "code",
   "execution_count": 38,
   "metadata": {},
   "outputs": [],
   "source": [
    "context_len = 8"
   ]
  },
  {
   "cell_type": "code",
   "execution_count": 32,
   "metadata": {},
   "outputs": [],
   "source": [
    "chars = list(tiny_shakespeare)\n",
    "vocab = {\n",
    "    c: i\n",
    "    for i, c in enumerate(list(set(chars)))\n",
    "}\n",
    "rev_vocab = {\n",
    "    i: c\n",
    "    for c, i in vocab.items()\n",
    "}"
   ]
  },
  {
   "cell_type": "code",
   "execution_count": 33,
   "metadata": {},
   "outputs": [],
   "source": [
    "tokenized = [\n",
    "    vocab[c]\n",
    "    for c in chars\n",
    "]"
   ]
  },
  {
   "cell_type": "code",
   "execution_count": 52,
   "metadata": {},
   "outputs": [],
   "source": [
    "X = torch.chunk(torch.tensor(tokenized), len(tokenized) // context_len)"
   ]
  },
  {
   "cell_type": "code",
   "execution_count": 54,
   "metadata": {},
   "outputs": [],
   "source": [
    "Y = torch.chunk(torch.tensor(tokenized[1:]), len(tokenized) // context_len)"
   ]
  },
  {
   "cell_type": "code",
   "execution_count": 62,
   "metadata": {},
   "outputs": [],
   "source": [
    "split_mask = (torch.rand(len(X)) < 0.2).int()"
   ]
  },
  {
   "cell_type": "code",
   "execution_count": 65,
   "metadata": {},
   "outputs": [
    {
     "data": {
      "text/plain": [
       "tensor([1, 1, 1,  ..., 1, 1, 0], dtype=torch.int32)"
      ]
     },
     "execution_count": 65,
     "metadata": {},
     "output_type": "execute_result"
    }
   ],
   "source": [
    "split_mask"
   ]
  }
 ],
 "metadata": {
  "kernelspec": {
   "display_name": "d2dl",
   "language": "python",
   "name": "python3"
  },
  "language_info": {
   "codemirror_mode": {
    "name": "ipython",
    "version": 3
   },
   "file_extension": ".py",
   "mimetype": "text/x-python",
   "name": "python",
   "nbconvert_exporter": "python",
   "pygments_lexer": "ipython3",
   "version": "3.9.6"
  }
 },
 "nbformat": 4,
 "nbformat_minor": 2
}
