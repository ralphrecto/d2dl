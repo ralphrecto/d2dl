{
 "cells": [
  {
   "cell_type": "code",
   "execution_count": 2,
   "metadata": {},
   "outputs": [],
   "source": [
    "import torch\n",
    "import torch.nn as nn"
   ]
  },
  {
   "cell_type": "code",
   "execution_count": 21,
   "metadata": {},
   "outputs": [],
   "source": [
    "class RNN(nn.Module):\n",
    "\n",
    "    def __init__(\n",
    "        self,\n",
    "        dim_inputs,\n",
    "        hidden_state_dim,\n",
    "    ):\n",
    "        super().__init__()\n",
    "\n",
    "        self.hidden_state_dim = hidden_state_dim\n",
    "        self.w_xh = nn.Parameter(torch.rand(dim_inputs, hidden_state_dim))\n",
    "        self.w_hh = nn.Parameter(torch.rand(hidden_state_dim, hidden_state_dim))\n",
    "\n",
    "        self.bias = nn.Parameter(torch.rand(hidden_state_dim))\n",
    "\n",
    "    def forward(self, inputs, hidden_state = None):\n",
    "        # input dims: (ctx len, batch size, input dim)\n",
    "        if hidden_state is None:\n",
    "            hidden_state = nn.Parameter(torch.rand(self.hidden_state_dim))\n",
    "\n",
    "        outputs = []\n",
    "        for x_t in inputs:\n",
    "            hidden_state = torch.tanh(\n",
    "                torch.matmul(x_t, self.w_xh)\n",
    "                + torch.matmul(hidden_state, self.w_hh)\n",
    "                + self.bias\n",
    "            )\n",
    "            outputs.append(hidden_state)\n",
    "\n",
    "        output_t = torch.stack(outputs)\n",
    "\n",
    "        return output_t, hidden_state"
   ]
  }
 ],
 "metadata": {
  "kernelspec": {
   "display_name": "d2dl",
   "language": "python",
   "name": "python3"
  },
  "language_info": {
   "codemirror_mode": {
    "name": "ipython",
    "version": 3
   },
   "file_extension": ".py",
   "mimetype": "text/x-python",
   "name": "python",
   "nbconvert_exporter": "python",
   "pygments_lexer": "ipython3",
   "version": "3.9.6"
  }
 },
 "nbformat": 4,
 "nbformat_minor": 2
}
